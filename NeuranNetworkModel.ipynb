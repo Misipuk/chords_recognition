{
 "cells": [
  {
   "cell_type": "code",
   "execution_count": 71,
   "metadata": {
    "id": "dLMVhJkVvkZz"
   },
   "outputs": [],
   "source": [
    "import numpy as np\n",
    "import pandas as pd\n",
    "from sklearn.model_selection import train_test_split\n",
    "import seaborn as sns\n",
    "import matplotlib.pyplot as plt\n",
    "\n",
    "# import tensorflow as tf\n",
    "from tensorflow.keras.models import Model, load_model\n",
    "from tensorflow.keras.layers import Dense, Input, Dropout, LSTM, Activation, Bidirectional, Flatten\n",
    "# from tensorflow.keras.layers.embeddings import Embedding\n",
    "from tensorflow.keras.preprocessing import sequence\n",
    "from tensorflow.keras.initializers import glorot_uniform\n",
    "from tensorflow.keras.preprocessing.text import Tokenizer\n",
    "from tensorflow.keras.callbacks import ModelCheckpoint, EarlyStopping\n",
    "from tensorflow.keras.regularizers import l1, l2\n",
    "from tensorflow.keras.optimizers import Adam\n",
    "\n",
    "from tensorflow.keras import Sequential"
   ]
  },
  {
   "cell_type": "code",
   "execution_count": 72,
   "metadata": {
    "colab": {
     "base_uri": "https://localhost:8080/"
    },
    "id": "aDzMERzU0AW2",
    "outputId": "ec163f80-1aed-47d6-c7b7-a3dd05240120"
   },
   "outputs": [],
   "source": [
    "#import contractions\n",
    "import string\n",
    "from tensorflow.keras.utils import to_categorical\n",
    "import re\n",
    "\n",
    "#from gensim.models import FastText"
   ]
  },
  {
   "cell_type": "code",
   "execution_count": 73,
   "metadata": {},
   "outputs": [],
   "source": [
    "from rnn_data_saver import *"
   ]
  },
  {
   "cell_type": "code",
   "execution_count": 74,
   "metadata": {},
   "outputs": [],
   "source": [
    "readedr = RnnDataSaver()\n",
    "readedr.results_read_json()\n",
    "#df = pd.read_csv('myfile.csv') \n"
   ]
  },
  {
   "cell_type": "code",
   "execution_count": 129,
   "metadata": {},
   "outputs": [
    {
     "name": "stdout",
     "output_type": "stream",
     "text": [
      "(18020, 24)\n"
     ]
    }
   ],
   "source": [
    "first_song = readedr.songs_list[0]\n",
    "second_song = readedr.songs_list[1]\n",
    "\n",
    "\n",
    "\n",
    "song_array = readedr.songs_list\n",
    "\n",
    "chords_total = 0\n",
    "\n",
    "for song in song_array:\n",
    "    chords_total = chords_total + len(song)\n",
    "\n",
    "# 2 песни по 1500 пар (ак, псп лист), а мне нужно массив 3000 псп листов\n",
    "\n",
    "X_pr_tr =  np.zeros((1, 24), dtype=float)\n",
    "Y_pr_tr =  np.array([])\n",
    "\n",
    "for song  in song_array:\n",
    "    for i in range(len(song)):\n",
    "        #X_pr_tr = X_pr_tr.append(np.array(song[i][1],dtype=float))\n",
    "        arr = np.array(song[i][1], dtype=float)\n",
    "        #print(arr)\n",
    "        X_pr_tr = np.vstack((X_pr_tr, arr))\n",
    "        Y_pr_tr = np.append(Y_pr_tr, song[i][0])\n",
    "        \n",
    "        \n",
    "X_pr_tr = X_pr_tr[1:]\n",
    "print(X_pr_tr.shape)"
   ]
  },
  {
   "cell_type": "code",
   "execution_count": 130,
   "metadata": {},
   "outputs": [
    {
     "name": "stdout",
     "output_type": "stream",
     "text": [
      "(18020, 1)\n"
     ]
    }
   ],
   "source": [
    "set_chords = set()\n",
    "for lbl in Y_pr_tr:\n",
    "    set_chords.add(lbl)\n",
    "\n",
    "list_chords = list(set_chords)\n",
    "ids_total = len(list_chords)\n",
    "dict_ch_id = {list_chords[i]: i for i in range(0, len(list_chords))}\n",
    "dict_id_ch = {i: list_chords[i] for i in range(0, len(list_chords))} \n",
    "\n",
    "Y_pr_tr = np.array([dict_ch_id.get(Y_pr_tr[i]) for i in range(0, len(Y_pr_tr))], dtype=int).reshape((chords_total,1))  \n",
    "\n",
    "print(Y_pr_tr.shape)\n",
    "    "
   ]
  },
  {
   "cell_type": "code",
   "execution_count": 131,
   "metadata": {},
   "outputs": [
    {
     "name": "stdout",
     "output_type": "stream",
     "text": [
      "(60, 300, 24)\n",
      "(60, 300, 1)\n"
     ]
    }
   ],
   "source": [
    "wn = 300\n",
    "\n",
    "cnt_wn = int(chords_total/wn)\n",
    "#print(\"cnt_wn = \" + str(cnt_wn))\n",
    "\n",
    "X =  np.zeros((1, wn, 24), dtype=float)\n",
    "Y =  np.zeros((1, wn, 1))\n",
    "\n",
    "\n",
    "for i in range(0, cnt_wn):\n",
    "    X = np.vstack((X, X_pr_tr[(i)*wn:(i+1)*wn].reshape((1, wn, 24))))\n",
    "    Y = np.vstack((Y, Y_pr_tr[(i)*wn:(i+1)*wn].reshape((1, wn, 1))))\n",
    "    #print((i+1)*wn)\n",
    "\n",
    "trainX = X[1:]\n",
    "trainY = Y[1:]\n",
    "print(trainX.shape)\n",
    "print(trainY.shape)\n",
    "\n",
    "testX = trainX.copy()\n",
    "testY = trainY.copy()"
   ]
  },
  {
   "cell_type": "code",
   "execution_count": 132,
   "metadata": {},
   "outputs": [],
   "source": [
    "trainY = to_categorical(trainY)\n",
    "testY = to_categorical(testY)"
   ]
  },
  {
   "cell_type": "code",
   "execution_count": 133,
   "metadata": {},
   "outputs": [
    {
     "name": "stdout",
     "output_type": "stream",
     "text": [
      "(60, 300, 24) (60, 300, 34) (60, 300, 24) (60, 300, 34)\n"
     ]
    }
   ],
   "source": [
    "print(trainX.shape, trainY.shape, testX.shape, testY.shape)"
   ]
  },
  {
   "cell_type": "code",
   "execution_count": 134,
   "metadata": {},
   "outputs": [],
   "source": [
    "n_timesteps, n_features, n_outputs = trainX.shape[1], trainX.shape[2], trainY.shape[1]\n"
   ]
  },
  {
   "cell_type": "code",
   "execution_count": 135,
   "metadata": {},
   "outputs": [
    {
     "name": "stdout",
     "output_type": "stream",
     "text": [
      "300 24 300\n"
     ]
    }
   ],
   "source": [
    "print(n_timesteps, n_features, n_outputs)"
   ]
  },
  {
   "cell_type": "code",
   "execution_count": 146,
   "metadata": {},
   "outputs": [],
   "source": [
    "def evaluate_model(trainX, trainy, testX, testy):\n",
    "    verbose, epochs, batch_size = 0, 20, 64\n",
    "    n_timesteps, n_features, n_outputs = trainX.shape[1], trainX.shape[2], trainy.shape[2]\n",
    "   # print(\"trainX {}, trainy {}, testX {}, texty {}\".format(trainX.shape, trainy.shape, testX.shape, testy.shape))\n",
    "    model = Sequential()\n",
    "    model.add(Bidirectional(LSTM(200, input_shape=(n_timesteps,n_features), return_sequences=True)))\n",
    "    model.add(Bidirectional(LSTM(100, input_shape=(n_timesteps,n_features), return_sequences=True)))\n",
    "    #model.add(Bidirectional(LSTM(100, input_shape=(n_timesteps,n_features), return_sequences=True)))\n",
    "    model.add(Dropout(0.4))\n",
    "    model.add(Dense(100, activation='relu'))\n",
    "    model.add(Dense(n_outputs, activation='softmax'))\n",
    "    model.compile(loss='categorical_crossentropy', optimizer='adam', metrics=['accuracy'])\n",
    "    \n",
    "    # fit network\n",
    "    model.fit(trainX, trainy, epochs=epochs, batch_size=batch_size, verbose=verbose)\n",
    "    print(model.summary())\n",
    "    # evaluate model\n",
    "    _, accuracy = model.evaluate(testX, testy, batch_size=batch_size, verbose=0)\n",
    "    return accuracy"
   ]
  },
  {
   "cell_type": "code",
   "execution_count": 147,
   "metadata": {},
   "outputs": [],
   "source": [
    "def summarize_results(scores):\n",
    "    print(scores)\n",
    "    #m, s = mean(scores), std(scores)\n",
    "    #print('Accuracy: %.3f%% (+/-%.3f)' % (m, s))\n",
    "    print((scores[0]+scores[1]+scores[2])/3)"
   ]
  },
  {
   "cell_type": "code",
   "execution_count": 148,
   "metadata": {},
   "outputs": [],
   "source": [
    "def run_experiment(repeats=3):\n",
    "    # load data\n",
    "    #trainX, trainy, testX, testy = load_dataset()\n",
    "    # repeat experiment\n",
    "    scores = list()\n",
    "    for r in range(repeats):\n",
    "        score = evaluate_model(trainX, trainY, testX, testY)\n",
    "        score = score * 100.0\n",
    "        print('>#%d: %.3f' % (r+1, score))\n",
    "        scores.append(score)\n",
    "    # summarize results\n",
    "    summarize_results(scores)"
   ]
  },
  {
   "cell_type": "code",
   "execution_count": 144,
   "metadata": {},
   "outputs": [
    {
     "data": {
      "text/plain": [
       "'score = evaluate_model(trainX, trainY, testX, testY)\\nscore = score * 100.0\\nprint(score)'"
      ]
     },
     "execution_count": 144,
     "metadata": {},
     "output_type": "execute_result"
    }
   ],
   "source": [
    "\"\"\"score = evaluate_model(trainX, trainY, testX, testY)\n",
    "score = score * 100.0\n",
    "print(score)\"\"\""
   ]
  },
  {
   "cell_type": "code",
   "execution_count": 145,
   "metadata": {},
   "outputs": [
    {
     "name": "stdout",
     "output_type": "stream",
     "text": [
      "Model: \"sequential_29\"\n",
      "_________________________________________________________________\n",
      "Layer (type)                 Output Shape              Param #   \n",
      "=================================================================\n",
      "bidirectional_58 (Bidirectio (None, 300, 400)          360000    \n",
      "_________________________________________________________________\n",
      "bidirectional_59 (Bidirectio (None, 300, 200)          400800    \n",
      "_________________________________________________________________\n",
      "dropout_29 (Dropout)         (None, 300, 200)          0         \n",
      "_________________________________________________________________\n",
      "dense_58 (Dense)             (None, 300, 100)          20100     \n",
      "_________________________________________________________________\n",
      "dense_59 (Dense)             (None, 300, 34)           3434      \n",
      "=================================================================\n",
      "Total params: 784,334\n",
      "Trainable params: 784,334\n",
      "Non-trainable params: 0\n",
      "_________________________________________________________________\n",
      "None\n",
      "WARNING:tensorflow:11 out of the last 11 calls to <function Model.make_test_function.<locals>.test_function at 0x000001C98651C040> triggered tf.function retracing. Tracing is expensive and the excessive number of tracings could be due to (1) creating @tf.function repeatedly in a loop, (2) passing tensors with different shapes, (3) passing Python objects instead of tensors. For (1), please define your @tf.function outside of the loop. For (2), @tf.function has experimental_relax_shapes=True option that relaxes argument shapes that can avoid unnecessary retracing. For (3), please refer to https://www.tensorflow.org/guide/function#controlling_retracing and https://www.tensorflow.org/api_docs/python/tf/function for  more details.\n",
      ">#1: 44.417\n",
      "Model: \"sequential_30\"\n",
      "_________________________________________________________________\n",
      "Layer (type)                 Output Shape              Param #   \n",
      "=================================================================\n",
      "bidirectional_60 (Bidirectio (None, 300, 400)          360000    \n",
      "_________________________________________________________________\n",
      "bidirectional_61 (Bidirectio (None, 300, 200)          400800    \n",
      "_________________________________________________________________\n",
      "dropout_30 (Dropout)         (None, 300, 200)          0         \n",
      "_________________________________________________________________\n",
      "dense_60 (Dense)             (None, 300, 100)          20100     \n",
      "_________________________________________________________________\n",
      "dense_61 (Dense)             (None, 300, 34)           3434      \n",
      "=================================================================\n",
      "Total params: 784,334\n",
      "Trainable params: 784,334\n",
      "Non-trainable params: 0\n",
      "_________________________________________________________________\n",
      "None\n",
      "WARNING:tensorflow:11 out of the last 11 calls to <function Model.make_test_function.<locals>.test_function at 0x000001C9D0C21040> triggered tf.function retracing. Tracing is expensive and the excessive number of tracings could be due to (1) creating @tf.function repeatedly in a loop, (2) passing tensors with different shapes, (3) passing Python objects instead of tensors. For (1), please define your @tf.function outside of the loop. For (2), @tf.function has experimental_relax_shapes=True option that relaxes argument shapes that can avoid unnecessary retracing. For (3), please refer to https://www.tensorflow.org/guide/function#controlling_retracing and https://www.tensorflow.org/api_docs/python/tf/function for  more details.\n",
      ">#2: 41.461\n",
      "Model: \"sequential_31\"\n",
      "_________________________________________________________________\n",
      "Layer (type)                 Output Shape              Param #   \n",
      "=================================================================\n",
      "bidirectional_62 (Bidirectio (None, 300, 400)          360000    \n",
      "_________________________________________________________________\n",
      "bidirectional_63 (Bidirectio (None, 300, 200)          400800    \n",
      "_________________________________________________________________\n",
      "dropout_31 (Dropout)         (None, 300, 200)          0         \n",
      "_________________________________________________________________\n",
      "dense_62 (Dense)             (None, 300, 100)          20100     \n",
      "_________________________________________________________________\n",
      "dense_63 (Dense)             (None, 300, 34)           3434      \n",
      "=================================================================\n",
      "Total params: 784,334\n",
      "Trainable params: 784,334\n",
      "Non-trainable params: 0\n",
      "_________________________________________________________________\n",
      "None\n",
      "WARNING:tensorflow:11 out of the last 11 calls to <function Model.make_test_function.<locals>.test_function at 0x000001C9837C6040> triggered tf.function retracing. Tracing is expensive and the excessive number of tracings could be due to (1) creating @tf.function repeatedly in a loop, (2) passing tensors with different shapes, (3) passing Python objects instead of tensors. For (1), please define your @tf.function outside of the loop. For (2), @tf.function has experimental_relax_shapes=True option that relaxes argument shapes that can avoid unnecessary retracing. For (3), please refer to https://www.tensorflow.org/guide/function#controlling_retracing and https://www.tensorflow.org/api_docs/python/tf/function for  more details.\n",
      ">#3: 45.683\n",
      "[44.41666603088379, 41.46111011505127, 45.68333327770233]\n",
      "43.85370314121246\n"
     ]
    }
   ],
   "source": [
    "run_experiment()"
   ]
  },
  {
   "cell_type": "markdown",
   "metadata": {},
   "source": []
  }
 ],
 "metadata": {
  "accelerator": "GPU",
  "colab": {
   "name": "gensim try.ipynb",
   "provenance": []
  },
  "kernelspec": {
   "display_name": "Python 3",
   "language": "python",
   "name": "python3"
  },
  "language_info": {
   "codemirror_mode": {
    "name": "ipython",
    "version": 3
   },
   "file_extension": ".py",
   "mimetype": "text/x-python",
   "name": "python",
   "nbconvert_exporter": "python",
   "pygments_lexer": "ipython3",
   "version": "3.8.5"
  }
 },
 "nbformat": 4,
 "nbformat_minor": 4
}
